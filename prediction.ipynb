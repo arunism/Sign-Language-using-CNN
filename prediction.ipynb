{
 "cells": [
  {
   "cell_type": "markdown",
   "metadata": {},
   "source": [
    "# Generating Text for Sign Language"
   ]
  },
  {
   "cell_type": "code",
   "execution_count": 1,
   "metadata": {},
   "outputs": [],
   "source": [
    "import numpy as np\n",
    "import cv2\n",
    "# load_img() is used to load image from file as a pil image\n",
    "# img_to_array() is used to convert pil image instance to a numpy array so that our model can understand/interpret the image\n",
    "from tensorflow.keras.preprocessing.image import load_img, img_to_array\n",
    "# Pickle is used to serialize and deserialize the python object structure so that any object on python can be pickled and saved to the disk\n",
    "# So pickle.load() fuction is used to load object data from the pickle file\n",
    "from pickle import load\n",
    "# load_model() fuction is used to load saved models from .h5 file\n",
    "from tensorflow.keras.models import load_model"
   ]
  },
  {
   "cell_type": "code",
   "execution_count": 2,
   "metadata": {},
   "outputs": [],
   "source": [
    "CLASSES = [\"a\",\"b\",\"c\",\"d\",\"e\",\"f\",\"g\",\"h\",\"i\",\"j\",\"k\",\"l\",\"m\",\"n\",\"o\",\"p\",\"q\",\"r\",\"s\",\"t\",\"u\",\"v\",\"w\",\"x\",\"y\",\"z\"]"
   ]
  },
  {
   "cell_type": "code",
   "execution_count": 3,
   "metadata": {},
   "outputs": [],
   "source": [
    "def predict_output(filename):\n",
    "    # Reading images using opencv\n",
    "    # Each image is converted into an array representation\n",
    "    img_arr = cv2.imread(filename)\n",
    "    # Using opencv to resize image arrays to 80X80 dimensions\n",
    "    img_arr = cv2.resize(img_arr, (80, 80))\n",
    "    img_arr = img_arr/255.0\n",
    "    print(\"The shape of the image array before expanding is:\", img_arr.shape)\n",
    "    \n",
    "    # The shape of the image_arr at present is (80, 80, 3)\n",
    "    # np.expand_dims() expands the dimension of the image array such that its shape becomes (1, 80, 80, 3)\n",
    "    # This is necessary because our model takes the 4 dimensional array as input (n, 80, 80, 3)\n",
    "    # Here \"n\" is the number of data items\n",
    "    img_arr = np.expand_dims(img_arr, axis=0)\n",
    "    print(\"The shape of the image array before expanding is:\", img_arr.shape)\n",
    "    \n",
    "    model = load_model('./models/model_12.h5')\n",
    "    # Extracting the features from the image\n",
    "    # By setting verbose 0, 1 or 2 you just say how do you want to 'see' the training progress for each epoch.\n",
    "    # verbose=0 will show you nothing (silent)\n",
    "    # verbose=1 will show you an animated progress bar like this: [===============================]\n",
    "    # verbose=2 will just mention the number of epoch like this: Epoch 1/10\n",
    "    result = np.argmax(model.predict(img_arr), axis=1)\n",
    "    result = CLASSES[int(result)]\n",
    "    return result"
   ]
  },
  {
   "cell_type": "code",
   "execution_count": 4,
   "metadata": {},
   "outputs": [
    {
     "name": "stdout",
     "output_type": "stream",
     "text": [
      "The shape of the image array before expanding is: (80, 80, 3)\n",
      "The shape of the image array before expanding is: (1, 80, 80, 3)\n"
     ]
    }
   ],
   "source": [
    "filename = \"./a1.jpg\"\n",
    "result = predict_output(filename)"
   ]
  },
  {
   "cell_type": "code",
   "execution_count": 5,
   "metadata": {},
   "outputs": [
    {
     "name": "stdout",
     "output_type": "stream",
     "text": [
      "The given image of sign language is equivalent to English alphabet: a\n"
     ]
    }
   ],
   "source": [
    "print(\"The given image of sign language is equivalent to English alphabet:\", result)"
   ]
  },
  {
   "cell_type": "code",
   "execution_count": null,
   "metadata": {},
   "outputs": [],
   "source": []
  }
 ],
 "metadata": {
  "kernelspec": {
   "display_name": "Python 3.7 (Intel® oneAPI)",
   "language": "python",
   "name": "c009-intel_distribution_of_python_3_oneapi-beta05-python"
  },
  "language_info": {
   "codemirror_mode": {
    "name": "ipython",
    "version": 3
   },
   "file_extension": ".py",
   "mimetype": "text/x-python",
   "name": "python",
   "nbconvert_exporter": "python",
   "pygments_lexer": "ipython3",
   "version": "3.7.7"
  }
 },
 "nbformat": 4,
 "nbformat_minor": 4
}
