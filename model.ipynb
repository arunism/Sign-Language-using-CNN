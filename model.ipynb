{
 "cells": [
  {
   "cell_type": "markdown",
   "metadata": {},
   "source": [
    "# Import Libraries"
   ]
  },
  {
   "cell_type": "code",
   "execution_count": 1,
   "metadata": {},
   "outputs": [],
   "source": [
    "import numpy as np\n",
    "import os\n",
    "import matplotlib.pyplot as plt\n",
    "import tensorflow as tf"
   ]
  },
  {
   "cell_type": "code",
   "execution_count": 2,
   "metadata": {},
   "outputs": [],
   "source": [
    "# tqdm makes your loops show progess meter instantly\n",
    "from tqdm import tqdm\n",
    "# We will be using opencv to resize our image\n",
    "import cv2\n",
    "# pickle is used to save the data\n",
    "import pickle"
   ]
  },
  {
   "cell_type": "markdown",
   "metadata": {},
   "source": [
    "# Exploiratory Data Analysis"
   ]
  },
  {
   "cell_type": "code",
   "execution_count": 5,
   "metadata": {},
   "outputs": [],
   "source": [
    "# Defining a base directory containing all the class labels\n",
    "BASE_DIR = \"./Datasets/Sign Language for Alphabets\"\n",
    "# Defining all the class labesl in the dataset\n",
    "# Here the names of the folders are treated as class labels\n",
    "CLASSES = [\"a\",\"b\",\"c\",\"d\",\"e\",\"f\",\"g\",\"h\",\"i\",\"j\",\"k\",\"l\",\"m\",\"n\",\"o\",\"p\",\"q\",\"r\",\"s\",\"t\",\"u\",\"v\",\"w\",\"x\",\"y\",\"z\"]"
   ]
  },
  {
   "cell_type": "code",
   "execution_count": 6,
   "metadata": {},
   "outputs": [
    {
     "name": "stderr",
     "output_type": "stream",
     "text": [
      "100%|██████████| 26/26 [00:35<00:00,  1.37s/it]\n"
     ]
    }
   ],
   "source": [
    "# Instanciting a list object to store image arrays along with their class labels\n",
    "data = list()\n",
    "\n",
    "# Iterating through each class labels\n",
    "for items in tqdm(CLASSES):\n",
    "    # Defining a path to all the unique folders which behave as class labels\n",
    "    path = os.path.join(BASE_DIR, items)\n",
    "    # Defining the label for each class as per their index in list object CLASSES\n",
    "    label = CLASSES.index(items)\n",
    "    # Iterating through each folder which beahve as unique class labels\n",
    "    for img in os.listdir(path):\n",
    "        # Defining a path for each image\n",
    "        img_path = os.path.join(path, img)\n",
    "        # Reading images using opencv\n",
    "        # Each image is converted into an array representation\n",
    "        img_arr = cv2.imread(img_path)\n",
    "        # Using opencv to resize image arrays to 80X80 dimensions\n",
    "        img_arr = cv2.resize(img_arr, (80, 80))\n",
    "        # Storing array of each image to list object along with their class labels\n",
    "        data.append([img_arr, label])"
   ]
  },
  {
   "cell_type": "code",
   "execution_count": 7,
   "metadata": {},
   "outputs": [
    {
     "name": "stdout",
     "output_type": "stream",
     "text": [
      "The length of data is: 39000\n"
     ]
    }
   ],
   "source": [
    "print(\"The length of data is:\", len(data))"
   ]
  },
  {
   "cell_type": "code",
   "execution_count": 8,
   "metadata": {},
   "outputs": [],
   "source": [
    "import random"
   ]
  },
  {
   "cell_type": "code",
   "execution_count": 9,
   "metadata": {},
   "outputs": [],
   "source": [
    "# shuffle is used to shuffle data contents randomly\n",
    "# This shuffling of data is necessary in order to train all the categories simultaneously\n",
    "# If we train each categories end-to-end one after another our model may learn categories incorrectly\n",
    "\n",
    "random.shuffle(data)"
   ]
  },
  {
   "cell_type": "code",
   "execution_count": null,
   "metadata": {},
   "outputs": [],
   "source": []
  }
 ],
 "metadata": {
  "kernelspec": {
   "display_name": "Python 3.7 (Intel® oneAPI)",
   "language": "python",
   "name": "c009-intel_distribution_of_python_3_oneapi-beta05-python"
  },
  "language_info": {
   "codemirror_mode": {
    "name": "ipython",
    "version": 3
   },
   "file_extension": ".py",
   "mimetype": "text/x-python",
   "name": "python",
   "nbconvert_exporter": "python",
   "pygments_lexer": "ipython3",
   "version": "3.7.7"
  }
 },
 "nbformat": 4,
 "nbformat_minor": 4
}
