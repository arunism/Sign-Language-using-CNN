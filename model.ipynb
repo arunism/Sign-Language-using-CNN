{
 "cells": [
  {
   "cell_type": "markdown",
   "metadata": {},
   "source": [
    "# Normalization of Features"
   ]
  },
  {
   "cell_type": "code",
   "execution_count": 1,
   "metadata": {},
   "outputs": [],
   "source": [
    "import pickle\n",
    "from tqdm import tqdm"
   ]
  },
  {
   "cell_type": "code",
   "execution_count": 2,
   "metadata": {},
   "outputs": [],
   "source": [
    "# 'rb' stands for read binary\n",
    "x = pickle.load(open(\"features.pkl\", \"rb\"))\n",
    "y = pickle.load(open(\"labels.pkl\", \"rb\"))"
   ]
  },
  {
   "cell_type": "code",
   "execution_count": 3,
   "metadata": {},
   "outputs": [
    {
     "name": "stdout",
     "output_type": "stream",
     "text": [
      "39000\n"
     ]
    }
   ],
   "source": [
    "# print(x[0])\n",
    "print(len(x))"
   ]
  },
  {
   "cell_type": "code",
   "execution_count": 4,
   "metadata": {},
   "outputs": [
    {
     "name": "stdout",
     "output_type": "stream",
     "text": [
      "39000\n"
     ]
    }
   ],
   "source": [
    "# print(y)\n",
    "print(len(y))"
   ]
  },
  {
   "cell_type": "code",
   "execution_count": 5,
   "metadata": {},
   "outputs": [],
   "source": [
    "# Feature scaling the values of feature arrays\n",
    "# This is not necessary but is adviced as it makes the calculation faster with low values\n",
    "x = x/255.0"
   ]
  },
  {
   "cell_type": "code",
   "execution_count": 6,
   "metadata": {},
   "outputs": [
    {
     "name": "stdout",
     "output_type": "stream",
     "text": [
      "The shape of the data features is: (39000, 80, 80, 3)\n",
      "The shape of the data class labels is: (39000,)\n"
     ]
    }
   ],
   "source": [
    "print(\"The shape of the data features is:\", x.shape)\n",
    "print(\"The shape of the data class labels is:\", y.shape)"
   ]
  },
  {
   "cell_type": "markdown",
   "metadata": {},
   "source": [
    "The shape of x has four craiteria here. 39000 is the total number of images or data points. First 80 represents the height of the image and another 80 is the width of the image. 3 is the number of channals i.e. Red, Green and Blue Channals."
   ]
  },
  {
   "cell_type": "markdown",
   "metadata": {},
   "source": [
    "# Fitting Data to Model"
   ]
  },
  {
   "cell_type": "code",
   "execution_count": 7,
   "metadata": {},
   "outputs": [],
   "source": [
    "from tensorflow.keras.models import Sequential\n",
    "from tensorflow.keras.layers import Conv2D, MaxPool2D, Dropout, Dense, Flatten"
   ]
  },
  {
   "cell_type": "code",
   "execution_count": 8,
   "metadata": {},
   "outputs": [
    {
     "name": "stdout",
     "output_type": "stream",
     "text": [
      "The shape of the image to be fit to the model is: (80, 80, 3)\n"
     ]
    }
   ],
   "source": [
    "# This is necessary because we need to pass our own data which is of the same shape as below\n",
    "input_img_shape = x.shape[1:]\n",
    "print(\"The shape of the image to be fit to the model is:\", input_img_shape)"
   ]
  },
  {
   "cell_type": "code",
   "execution_count": 9,
   "metadata": {},
   "outputs": [],
   "source": [
    "model = Sequential()\n",
    "\n",
    "model.add(Conv2D(16, (2,2), input_shape=input_img_shape, activation='relu'))\n",
    "model.add(MaxPool2D(pool_size=(2, 2), strides=(2, 2), padding='same'))\n",
    "\n",
    "model.add(Conv2D(32, (3,3), activation='relu'))\n",
    "model.add(MaxPool2D(pool_size=(3, 3), strides=(3, 3), padding='same'))\n",
    "\n",
    "model.add(Conv2D(64, (5,5), activation='relu'))\n",
    "model.add(MaxPool2D(pool_size=(5, 5), strides=(5, 5), padding='same'))\n",
    "\n",
    "model.add(Flatten())\n",
    "model.add(Dense(128, activation='relu'))\n",
    "model.add(Dropout(0.2))\n",
    "# 26, here is the number of class labels\n",
    "model.add(Dense(26, activation='softmax'))"
   ]
  },
  {
   "cell_type": "code",
   "execution_count": 10,
   "metadata": {},
   "outputs": [],
   "source": [
    "model.compile(loss='sparse_categorical_crossentropy', optimizer='adam', metrics=['accuracy'])"
   ]
  },
  {
   "cell_type": "code",
   "execution_count": 11,
   "metadata": {},
   "outputs": [
    {
     "name": "stderr",
     "output_type": "stream",
     "text": [
      "  0%|          | 0/15 [00:00<?, ?it/s]"
     ]
    },
    {
     "name": "stdout",
     "output_type": "stream",
     "text": [
      "975/975 [==============================] - 24s 25ms/step - loss: 0.9869 - accuracy: 0.7141 - val_loss: 0.3168 - val_accuracy: 0.9133\n"
     ]
    },
    {
     "name": "stderr",
     "output_type": "stream",
     "text": [
      "  7%|▋         | 1/15 [00:27<06:18, 27.03s/it]"
     ]
    },
    {
     "name": "stdout",
     "output_type": "stream",
     "text": [
      "975/975 [==============================] - 23s 24ms/step - loss: 0.2766 - accuracy: 0.9166 - val_loss: 0.1846 - val_accuracy: 0.9450\n"
     ]
    },
    {
     "name": "stderr",
     "output_type": "stream",
     "text": [
      " 13%|█▎        | 2/15 [00:52<05:45, 26.56s/it]"
     ]
    },
    {
     "name": "stdout",
     "output_type": "stream",
     "text": [
      "975/975 [==============================] - 24s 25ms/step - loss: 0.1726 - accuracy: 0.9456 - val_loss: 0.1564 - val_accuracy: 0.9531\n"
     ]
    },
    {
     "name": "stderr",
     "output_type": "stream",
     "text": [
      " 20%|██        | 3/15 [01:18<05:18, 26.52s/it]"
     ]
    },
    {
     "name": "stdout",
     "output_type": "stream",
     "text": [
      "975/975 [==============================] - 24s 24ms/step - loss: 0.1258 - accuracy: 0.9601 - val_loss: 0.1257 - val_accuracy: 0.9622\n"
     ]
    },
    {
     "name": "stderr",
     "output_type": "stream",
     "text": [
      " 27%|██▋       | 4/15 [01:45<04:51, 26.46s/it]"
     ]
    },
    {
     "name": "stdout",
     "output_type": "stream",
     "text": [
      "975/975 [==============================] - 24s 25ms/step - loss: 0.1021 - accuracy: 0.9672 - val_loss: 0.1241 - val_accuracy: 0.9631\n"
     ]
    },
    {
     "name": "stderr",
     "output_type": "stream",
     "text": [
      " 33%|███▎      | 5/15 [02:12<04:25, 26.59s/it]"
     ]
    },
    {
     "name": "stdout",
     "output_type": "stream",
     "text": [
      "975/975 [==============================] - 24s 24ms/step - loss: 0.0809 - accuracy: 0.9735 - val_loss: 0.1112 - val_accuracy: 0.9673\n"
     ]
    },
    {
     "name": "stderr",
     "output_type": "stream",
     "text": [
      " 40%|████      | 6/15 [02:38<03:58, 26.49s/it]"
     ]
    },
    {
     "name": "stdout",
     "output_type": "stream",
     "text": [
      "975/975 [==============================] - 24s 25ms/step - loss: 0.0676 - accuracy: 0.9780 - val_loss: 0.1053 - val_accuracy: 0.9706\n"
     ]
    },
    {
     "name": "stderr",
     "output_type": "stream",
     "text": [
      " 47%|████▋     | 7/15 [03:05<03:32, 26.60s/it]"
     ]
    },
    {
     "name": "stdout",
     "output_type": "stream",
     "text": [
      "975/975 [==============================] - 24s 24ms/step - loss: 0.0622 - accuracy: 0.9798 - val_loss: 0.1211 - val_accuracy: 0.9694\n"
     ]
    },
    {
     "name": "stderr",
     "output_type": "stream",
     "text": [
      " 53%|█████▎    | 8/15 [03:31<03:05, 26.50s/it]"
     ]
    },
    {
     "name": "stdout",
     "output_type": "stream",
     "text": [
      "975/975 [==============================] - 24s 25ms/step - loss: 0.0563 - accuracy: 0.9823 - val_loss: 0.1021 - val_accuracy: 0.9728\n"
     ]
    },
    {
     "name": "stderr",
     "output_type": "stream",
     "text": [
      " 60%|██████    | 9/15 [03:58<02:39, 26.55s/it]"
     ]
    },
    {
     "name": "stdout",
     "output_type": "stream",
     "text": [
      "975/975 [==============================] - 24s 25ms/step - loss: 0.0451 - accuracy: 0.9852 - val_loss: 0.0897 - val_accuracy: 0.9769\n"
     ]
    },
    {
     "name": "stderr",
     "output_type": "stream",
     "text": [
      " 67%|██████▋   | 10/15 [04:24<02:13, 26.62s/it]"
     ]
    },
    {
     "name": "stdout",
     "output_type": "stream",
     "text": [
      "975/975 [==============================] - 24s 25ms/step - loss: 0.0394 - accuracy: 0.9872 - val_loss: 0.0995 - val_accuracy: 0.9749\n"
     ]
    },
    {
     "name": "stderr",
     "output_type": "stream",
     "text": [
      " 73%|███████▎  | 11/15 [04:51<01:46, 26.59s/it]"
     ]
    },
    {
     "name": "stdout",
     "output_type": "stream",
     "text": [
      "975/975 [==============================] - 23s 24ms/step - loss: 0.0411 - accuracy: 0.9865 - val_loss: 0.1114 - val_accuracy: 0.9722\n"
     ]
    },
    {
     "name": "stderr",
     "output_type": "stream",
     "text": [
      " 80%|████████  | 12/15 [05:17<01:19, 26.39s/it]"
     ]
    },
    {
     "name": "stdout",
     "output_type": "stream",
     "text": [
      "975/975 [==============================] - 25s 25ms/step - loss: 0.0341 - accuracy: 0.9882 - val_loss: 0.0973 - val_accuracy: 0.9776\n"
     ]
    },
    {
     "name": "stderr",
     "output_type": "stream",
     "text": [
      " 87%|████████▋ | 13/15 [05:44<00:53, 26.66s/it]"
     ]
    },
    {
     "name": "stdout",
     "output_type": "stream",
     "text": [
      "975/975 [==============================] - 24s 25ms/step - loss: 0.0313 - accuracy: 0.9900 - val_loss: 0.0872 - val_accuracy: 0.9776\n"
     ]
    },
    {
     "name": "stderr",
     "output_type": "stream",
     "text": [
      " 93%|█████████▎| 14/15 [06:11<00:26, 26.77s/it]"
     ]
    },
    {
     "name": "stdout",
     "output_type": "stream",
     "text": [
      "975/975 [==============================] - 24s 24ms/step - loss: 0.0315 - accuracy: 0.9903 - val_loss: 0.1104 - val_accuracy: 0.9759\n"
     ]
    },
    {
     "name": "stderr",
     "output_type": "stream",
     "text": [
      "100%|██████████| 15/15 [06:37<00:00, 26.53s/it]\n"
     ]
    }
   ],
   "source": [
    "# Here we will train the model and save our model after each epoch as .h5 filename begining with model_\n",
    "epochs = 15\n",
    "\n",
    "for i in tqdm(range(epochs)):\n",
    "    model.fit(x, y, batch_size=32, epochs=1, validation_split=0.2, verbose=1)\n",
    "    model.save(f\"./models/model_{i}.h5\" )"
   ]
  },
  {
   "cell_type": "code",
   "execution_count": null,
   "metadata": {},
   "outputs": [],
   "source": []
  }
 ],
 "metadata": {
  "kernelspec": {
   "display_name": "Python 3.7 (Intel® oneAPI)",
   "language": "python",
   "name": "c009-intel_distribution_of_python_3_oneapi-beta05-python"
  },
  "language_info": {
   "codemirror_mode": {
    "name": "ipython",
    "version": 3
   },
   "file_extension": ".py",
   "mimetype": "text/x-python",
   "name": "python",
   "nbconvert_exporter": "python",
   "pygments_lexer": "ipython3",
   "version": "3.7.7"
  }
 },
 "nbformat": 4,
 "nbformat_minor": 4
}
