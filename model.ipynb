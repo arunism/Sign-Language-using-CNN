{
 "cells": [
  {
   "cell_type": "markdown",
   "metadata": {},
   "source": [
    "# Import Libraries"
   ]
  },
  {
   "cell_type": "code",
   "execution_count": 2,
   "metadata": {},
   "outputs": [],
   "source": [
    "import numpy as np\n",
    "import os\n",
    "import matplotlib.pyplot as plt\n",
    "import tensorflow as tf"
   ]
  },
  {
   "cell_type": "code",
   "execution_count": 3,
   "metadata": {},
   "outputs": [],
   "source": [
    "# tqdm makes your loops show progess meter instantly\n",
    "from tqdm import tqdm\n",
    "# We will be using opencv to resize our image\n",
    "import cv2\n",
    "# pickle is used to save the data\n",
    "import pickle"
   ]
  },
  {
   "cell_type": "markdown",
   "metadata": {},
   "source": [
    "# Exploiratory Data Analysis"
   ]
  },
  {
   "cell_type": "code",
   "execution_count": 4,
   "metadata": {},
   "outputs": [],
   "source": [
    "# Defining a base directory containing all the class labels\n",
    "BASE_DIR = \"./Datasets/Sign Language for Alphabets\"\n",
    "# Defining all the class labesl in the dataset\n",
    "# Here the names of the folders are treated as class labels\n",
    "CLASSES = [\"a\",\"b\",\"c\",\"d\",\"e\",\"f\",\"g\",\"h\",\"i\",\"j\",\"k\",\"l\",\"m\",\"n\",\"o\",\"p\",\"q\",\"r\",\"s\",\"t\",\"u\",\"v\",\"w\",\"x\",\"y\",\"z\"]"
   ]
  },
  {
   "cell_type": "code",
   "execution_count": 5,
   "metadata": {},
   "outputs": [
    {
     "name": "stderr",
     "output_type": "stream",
     "text": [
      "100%|██████████| 26/26 [01:28<00:00,  3.40s/it]\n"
     ]
    }
   ],
   "source": [
    "# Instanciting a list object to store image arrays along with their class labels\n",
    "data = list()\n",
    "\n",
    "# Iterating through each class labels\n",
    "for items in tqdm(CLASSES):\n",
    "    # Defining a path to all the unique folders which behave as class labels\n",
    "    path = os.path.join(BASE_DIR, items)\n",
    "    # Defining the label for each class as per their index in list object CLASSES\n",
    "    label = CLASSES.index(items)\n",
    "    # Iterating through each folder which beahve as unique class labels\n",
    "    for img in os.listdir(path):\n",
    "        # Defining a path for each image\n",
    "        img_path = os.path.join(path, img)\n",
    "        # Reading images using opencv\n",
    "        # Each image is converted into an array representation\n",
    "        img_arr = cv2.imread(img_path)\n",
    "        # Using opencv to resize image arrays to 80X80 dimensions\n",
    "        img_arr = cv2.resize(img_arr, (80, 80))\n",
    "        # Storing array of each image to list object along with their class labels\n",
    "        data.append([img_arr, label])"
   ]
  },
  {
   "cell_type": "code",
   "execution_count": 6,
   "metadata": {},
   "outputs": [
    {
     "name": "stdout",
     "output_type": "stream",
     "text": [
      "The length of data is: 39000\n"
     ]
    }
   ],
   "source": [
    "print(\"The length of data is:\", len(data))"
   ]
  },
  {
   "cell_type": "markdown",
   "metadata": {},
   "source": [
    "# Data Preprocessing"
   ]
  },
  {
   "cell_type": "code",
   "execution_count": 7,
   "metadata": {},
   "outputs": [],
   "source": [
    "import random"
   ]
  },
  {
   "cell_type": "code",
   "execution_count": 8,
   "metadata": {},
   "outputs": [],
   "source": [
    "# shuffle is used to shuffle data contents randomly\n",
    "# This shuffling of data is necessary in order to train all the categories simultaneously\n",
    "# If we train each categories end-to-end one after another our model may learn categories incorrectly\n",
    "\n",
    "random.shuffle(data)"
   ]
  },
  {
   "cell_type": "code",
   "execution_count": 9,
   "metadata": {},
   "outputs": [
    {
     "data": {
      "text/plain": [
       "[array([[[133, 133, 133],\n",
       "         [138, 138, 138],\n",
       "         [141, 141, 141],\n",
       "         ...,\n",
       "         [131, 131, 131],\n",
       "         [128, 128, 128],\n",
       "         [126, 126, 126]],\n",
       " \n",
       "        [[136, 136, 136],\n",
       "         [141, 141, 141],\n",
       "         [143, 143, 143],\n",
       "         ...,\n",
       "         [132, 132, 132],\n",
       "         [129, 129, 129],\n",
       "         [126, 126, 126]],\n",
       " \n",
       "        [[138, 138, 138],\n",
       "         [142, 142, 142],\n",
       "         [143, 143, 143],\n",
       "         ...,\n",
       "         [133, 133, 133],\n",
       "         [130, 130, 130],\n",
       "         [128, 128, 128]],\n",
       " \n",
       "        ...,\n",
       " \n",
       "        [[124, 124, 124],\n",
       "         [125, 125, 125],\n",
       "         [128, 128, 128],\n",
       "         ...,\n",
       "         [125, 125, 125],\n",
       "         [122, 122, 122],\n",
       "         [120, 120, 120]],\n",
       " \n",
       "        [[122, 122, 122],\n",
       "         [124, 124, 124],\n",
       "         [126, 126, 126],\n",
       "         ...,\n",
       "         [123, 123, 123],\n",
       "         [120, 120, 120],\n",
       "         [118, 118, 118]],\n",
       " \n",
       "        [[121, 121, 121],\n",
       "         [123, 123, 123],\n",
       "         [125, 125, 125],\n",
       "         ...,\n",
       "         [121, 121, 121],\n",
       "         [119, 119, 119],\n",
       "         [116, 116, 116]]], dtype=uint8),\n",
       " 5]"
      ]
     },
     "execution_count": 9,
     "metadata": {},
     "output_type": "execute_result"
    }
   ],
   "source": [
    "data[0]"
   ]
  },
  {
   "cell_type": "code",
   "execution_count": 11,
   "metadata": {},
   "outputs": [],
   "source": [
    "# list x is used to store features of the image\n",
    "# list y is used to store class labels of the image\n",
    "x, y = list(), list()\n",
    "\n",
    "for features, labels in data:\n",
    "    x.append(features)\n",
    "    y.append(labels)"
   ]
  },
  {
   "cell_type": "code",
   "execution_count": 12,
   "metadata": {},
   "outputs": [],
   "source": [
    "# Converting lists x and y to numpy arrays\n",
    "x = np.array(x)\n",
    "y = np.array(y)"
   ]
  },
  {
   "cell_type": "code",
   "execution_count": 14,
   "metadata": {},
   "outputs": [],
   "source": [
    "# Saving our data to pickle files\n",
    "# 'wb' stands for write in binary\n",
    "pickle.dump(x, open('features.pkl', 'wb'))\n",
    "pickle.dump(x, open('labels.pkl', 'wb'))"
   ]
  },
  {
   "cell_type": "code",
   "execution_count": null,
   "metadata": {},
   "outputs": [],
   "source": []
  }
 ],
 "metadata": {
  "kernelspec": {
   "display_name": "Python 3.7 (Intel® oneAPI)",
   "language": "python",
   "name": "c009-intel_distribution_of_python_3_oneapi-beta05-python"
  },
  "language_info": {
   "codemirror_mode": {
    "name": "ipython",
    "version": 3
   },
   "file_extension": ".py",
   "mimetype": "text/x-python",
   "name": "python",
   "nbconvert_exporter": "python",
   "pygments_lexer": "ipython3",
   "version": "3.7.7"
  }
 },
 "nbformat": 4,
 "nbformat_minor": 4
}
